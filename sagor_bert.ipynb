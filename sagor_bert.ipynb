{
  "cells": [
    {
      "cell_type": "markdown",
      "metadata": {
        "id": "view-in-github",
        "colab_type": "text"
      },
      "source": [
        "<a href=\"https://colab.research.google.com/github/Shibu4064/ML_Project/blob/main/sagor_bert.ipynb\" target=\"_parent\"><img src=\"https://colab.research.google.com/assets/colab-badge.svg\" alt=\"Open In Colab\"/></a>"
      ]
    },
    {
      "cell_type": "code",
      "execution_count": null,
      "metadata": {
        "id": "pabhBoSGHG_U",
        "colab": {
          "base_uri": "https://localhost:8080/"
        },
        "outputId": "6751d6df-0c8d-466e-bb7f-239ce1db508a"
      },
      "outputs": [
        {
          "output_type": "stream",
          "name": "stdout",
          "text": [
            "Drive already mounted at /content/drive; to attempt to forcibly remount, call drive.mount(\"/content/drive\", force_remount=True).\n"
          ]
        }
      ],
      "source": [
        "from google.colab import drive\n",
        "drive.mount('/content/drive')"
      ]
    },
    {
      "cell_type": "code",
      "execution_count": null,
      "metadata": {
        "id": "hDDFqKXKwZAV"
      },
      "outputs": [],
      "source": [
        "%%capture\n",
        "!pip install transformers datasets\n",
        "!pip install transformers\n",
        "!pip install transformers[torch]\n",
        "!pip install transformers[tf-cpu]\n",
        "!pip install transformers[flax]\n",
        "!pip install torch\n",
        "!pip install tensorflow\n",
        "!pip install evaluate"
      ]
    },
    {
      "cell_type": "code",
      "execution_count": null,
      "metadata": {
        "id": "4pvupP175bYx"
      },
      "outputs": [],
      "source": [
        "import pandas as pd\n",
        "train_df = pd.read_csv('/content/drive/MyDrive/EMNLP/train.csv') # train set\n",
        "val_df = pd.read_csv('/content/drive/MyDrive/EMNLP/dev.csv') # validation set\n",
        "#train_df=pd.read_csv('/content/drive/MyDrive/EMNLP/df12_cleaned.csv')"
      ]
    },
    {
      "cell_type": "code",
      "source": [
        "print(len(train_df))"
      ],
      "metadata": {
        "colab": {
          "base_uri": "https://localhost:8080/"
        },
        "id": "2aGxcG683mel",
        "outputId": "00b3f348-de35-487a-de5d-38184b6a8f11"
      },
      "execution_count": null,
      "outputs": [
        {
          "output_type": "stream",
          "name": "stdout",
          "text": [
            "2700\n"
          ]
        }
      ]
    },
    {
      "cell_type": "code",
      "execution_count": null,
      "metadata": {
        "colab": {
          "base_uri": "https://localhost:8080/"
        },
        "id": "mUJGSwYOFVgH",
        "outputId": "29245361-7ffe-41d0-fc1e-c174b05c5995"
      },
      "outputs": [
        {
          "output_type": "execute_result",
          "data": {
            "text/plain": [
              "Index(['text', 'label'], dtype='object')"
            ]
          },
          "metadata": {},
          "execution_count": 5
        }
      ],
      "source": [
        "train_df.columns"
      ]
    },
    {
      "cell_type": "code",
      "execution_count": null,
      "metadata": {
        "colab": {
          "base_uri": "https://localhost:8080/",
          "height": 206
        },
        "id": "PEaHE6SKF1hA",
        "outputId": "2b308edd-85bd-48f1-96e9-6f7e424b54a7"
      },
      "outputs": [
        {
          "output_type": "execute_result",
          "data": {
            "text/plain": [
              "                                                text  label\n",
              "0  যে দেশে সন্ত্রাসরা দেশ চালায়সে দেশে শান্তি কিভ...      1\n",
              "1  এই বিচার শেষ বিচার নয়।আসল বিচার হবে আল্লাহর আদ...      0\n",
              "2  আরব দেশগুলোকে বলব ভারতের সাথে সব ব্যবসা বাণিজ্...      2\n",
              "3                                    দেশটা সুস্থ নাই      0\n",
              "4  আপনার কথা দুঃখ জনক আগে বিডিও থাকলে কেন ধরা হলন...      0"
            ],
            "text/html": [
              "\n",
              "\n",
              "  <div id=\"df-b5cf7a3c-d96f-43b2-819a-f4d5738ef7bf\">\n",
              "    <div class=\"colab-df-container\">\n",
              "      <div>\n",
              "<style scoped>\n",
              "    .dataframe tbody tr th:only-of-type {\n",
              "        vertical-align: middle;\n",
              "    }\n",
              "\n",
              "    .dataframe tbody tr th {\n",
              "        vertical-align: top;\n",
              "    }\n",
              "\n",
              "    .dataframe thead th {\n",
              "        text-align: right;\n",
              "    }\n",
              "</style>\n",
              "<table border=\"1\" class=\"dataframe\">\n",
              "  <thead>\n",
              "    <tr style=\"text-align: right;\">\n",
              "      <th></th>\n",
              "      <th>text</th>\n",
              "      <th>label</th>\n",
              "    </tr>\n",
              "  </thead>\n",
              "  <tbody>\n",
              "    <tr>\n",
              "      <th>0</th>\n",
              "      <td>যে দেশে সন্ত্রাসরা দেশ চালায়সে দেশে শান্তি কিভ...</td>\n",
              "      <td>1</td>\n",
              "    </tr>\n",
              "    <tr>\n",
              "      <th>1</th>\n",
              "      <td>এই বিচার শেষ বিচার নয়।আসল বিচার হবে আল্লাহর আদ...</td>\n",
              "      <td>0</td>\n",
              "    </tr>\n",
              "    <tr>\n",
              "      <th>2</th>\n",
              "      <td>আরব দেশগুলোকে বলব ভারতের সাথে সব ব্যবসা বাণিজ্...</td>\n",
              "      <td>2</td>\n",
              "    </tr>\n",
              "    <tr>\n",
              "      <th>3</th>\n",
              "      <td>দেশটা সুস্থ নাই</td>\n",
              "      <td>0</td>\n",
              "    </tr>\n",
              "    <tr>\n",
              "      <th>4</th>\n",
              "      <td>আপনার কথা দুঃখ জনক আগে বিডিও থাকলে কেন ধরা হলন...</td>\n",
              "      <td>0</td>\n",
              "    </tr>\n",
              "  </tbody>\n",
              "</table>\n",
              "</div>\n",
              "      <button class=\"colab-df-convert\" onclick=\"convertToInteractive('df-b5cf7a3c-d96f-43b2-819a-f4d5738ef7bf')\"\n",
              "              title=\"Convert this dataframe to an interactive table.\"\n",
              "              style=\"display:none;\">\n",
              "\n",
              "  <svg xmlns=\"http://www.w3.org/2000/svg\" height=\"24px\"viewBox=\"0 0 24 24\"\n",
              "       width=\"24px\">\n",
              "    <path d=\"M0 0h24v24H0V0z\" fill=\"none\"/>\n",
              "    <path d=\"M18.56 5.44l.94 2.06.94-2.06 2.06-.94-2.06-.94-.94-2.06-.94 2.06-2.06.94zm-11 1L8.5 8.5l.94-2.06 2.06-.94-2.06-.94L8.5 2.5l-.94 2.06-2.06.94zm10 10l.94 2.06.94-2.06 2.06-.94-2.06-.94-.94-2.06-.94 2.06-2.06.94z\"/><path d=\"M17.41 7.96l-1.37-1.37c-.4-.4-.92-.59-1.43-.59-.52 0-1.04.2-1.43.59L10.3 9.45l-7.72 7.72c-.78.78-.78 2.05 0 2.83L4 21.41c.39.39.9.59 1.41.59.51 0 1.02-.2 1.41-.59l7.78-7.78 2.81-2.81c.8-.78.8-2.07 0-2.86zM5.41 20L4 18.59l7.72-7.72 1.47 1.35L5.41 20z\"/>\n",
              "  </svg>\n",
              "      </button>\n",
              "\n",
              "\n",
              "\n",
              "    <div id=\"df-cf857f31-32a3-4ca5-a431-89ba5bbc1eba\">\n",
              "      <button class=\"colab-df-quickchart\" onclick=\"quickchart('df-cf857f31-32a3-4ca5-a431-89ba5bbc1eba')\"\n",
              "              title=\"Suggest charts.\"\n",
              "              style=\"display:none;\">\n",
              "\n",
              "<svg xmlns=\"http://www.w3.org/2000/svg\" height=\"24px\"viewBox=\"0 0 24 24\"\n",
              "     width=\"24px\">\n",
              "    <g>\n",
              "        <path d=\"M19 3H5c-1.1 0-2 .9-2 2v14c0 1.1.9 2 2 2h14c1.1 0 2-.9 2-2V5c0-1.1-.9-2-2-2zM9 17H7v-7h2v7zm4 0h-2V7h2v10zm4 0h-2v-4h2v4z\"/>\n",
              "    </g>\n",
              "</svg>\n",
              "      </button>\n",
              "    </div>\n",
              "\n",
              "<style>\n",
              "  .colab-df-quickchart {\n",
              "    background-color: #E8F0FE;\n",
              "    border: none;\n",
              "    border-radius: 50%;\n",
              "    cursor: pointer;\n",
              "    display: none;\n",
              "    fill: #1967D2;\n",
              "    height: 32px;\n",
              "    padding: 0 0 0 0;\n",
              "    width: 32px;\n",
              "  }\n",
              "\n",
              "  .colab-df-quickchart:hover {\n",
              "    background-color: #E2EBFA;\n",
              "    box-shadow: 0px 1px 2px rgba(60, 64, 67, 0.3), 0px 1px 3px 1px rgba(60, 64, 67, 0.15);\n",
              "    fill: #174EA6;\n",
              "  }\n",
              "\n",
              "  [theme=dark] .colab-df-quickchart {\n",
              "    background-color: #3B4455;\n",
              "    fill: #D2E3FC;\n",
              "  }\n",
              "\n",
              "  [theme=dark] .colab-df-quickchart:hover {\n",
              "    background-color: #434B5C;\n",
              "    box-shadow: 0px 1px 3px 1px rgba(0, 0, 0, 0.15);\n",
              "    filter: drop-shadow(0px 1px 2px rgba(0, 0, 0, 0.3));\n",
              "    fill: #FFFFFF;\n",
              "  }\n",
              "</style>\n",
              "\n",
              "    <script>\n",
              "      async function quickchart(key) {\n",
              "        const containerElement = document.querySelector('#' + key);\n",
              "        const charts = await google.colab.kernel.invokeFunction(\n",
              "            'suggestCharts', [key], {});\n",
              "      }\n",
              "    </script>\n",
              "\n",
              "      <script>\n",
              "\n",
              "function displayQuickchartButton(domScope) {\n",
              "  let quickchartButtonEl =\n",
              "    domScope.querySelector('#df-cf857f31-32a3-4ca5-a431-89ba5bbc1eba button.colab-df-quickchart');\n",
              "  quickchartButtonEl.style.display =\n",
              "    google.colab.kernel.accessAllowed ? 'block' : 'none';\n",
              "}\n",
              "\n",
              "        displayQuickchartButton(document);\n",
              "      </script>\n",
              "      <style>\n",
              "    .colab-df-container {\n",
              "      display:flex;\n",
              "      flex-wrap:wrap;\n",
              "      gap: 12px;\n",
              "    }\n",
              "\n",
              "    .colab-df-convert {\n",
              "      background-color: #E8F0FE;\n",
              "      border: none;\n",
              "      border-radius: 50%;\n",
              "      cursor: pointer;\n",
              "      display: none;\n",
              "      fill: #1967D2;\n",
              "      height: 32px;\n",
              "      padding: 0 0 0 0;\n",
              "      width: 32px;\n",
              "    }\n",
              "\n",
              "    .colab-df-convert:hover {\n",
              "      background-color: #E2EBFA;\n",
              "      box-shadow: 0px 1px 2px rgba(60, 64, 67, 0.3), 0px 1px 3px 1px rgba(60, 64, 67, 0.15);\n",
              "      fill: #174EA6;\n",
              "    }\n",
              "\n",
              "    [theme=dark] .colab-df-convert {\n",
              "      background-color: #3B4455;\n",
              "      fill: #D2E3FC;\n",
              "    }\n",
              "\n",
              "    [theme=dark] .colab-df-convert:hover {\n",
              "      background-color: #434B5C;\n",
              "      box-shadow: 0px 1px 3px 1px rgba(0, 0, 0, 0.15);\n",
              "      filter: drop-shadow(0px 1px 2px rgba(0, 0, 0, 0.3));\n",
              "      fill: #FFFFFF;\n",
              "    }\n",
              "  </style>\n",
              "\n",
              "      <script>\n",
              "        const buttonEl =\n",
              "          document.querySelector('#df-b5cf7a3c-d96f-43b2-819a-f4d5738ef7bf button.colab-df-convert');\n",
              "        buttonEl.style.display =\n",
              "          google.colab.kernel.accessAllowed ? 'block' : 'none';\n",
              "\n",
              "        async function convertToInteractive(key) {\n",
              "          const element = document.querySelector('#df-b5cf7a3c-d96f-43b2-819a-f4d5738ef7bf');\n",
              "          const dataTable =\n",
              "            await google.colab.kernel.invokeFunction('convertToInteractive',\n",
              "                                                     [key], {});\n",
              "          if (!dataTable) return;\n",
              "\n",
              "          const docLinkHtml = 'Like what you see? Visit the ' +\n",
              "            '<a target=\"_blank\" href=https://colab.research.google.com/notebooks/data_table.ipynb>data table notebook</a>'\n",
              "            + ' to learn more about interactive tables.';\n",
              "          element.innerHTML = '';\n",
              "          dataTable['output_type'] = 'display_data';\n",
              "          await google.colab.output.renderOutput(dataTable, element);\n",
              "          const docLink = document.createElement('div');\n",
              "          docLink.innerHTML = docLinkHtml;\n",
              "          element.appendChild(docLink);\n",
              "        }\n",
              "      </script>\n",
              "    </div>\n",
              "  </div>\n"
            ]
          },
          "metadata": {},
          "execution_count": 6
        }
      ],
      "source": [
        "train_df.head()"
      ]
    },
    {
      "cell_type": "code",
      "execution_count": null,
      "metadata": {
        "id": "yfRf8eHy33tn"
      },
      "outputs": [],
      "source": [
        "from sklearn.model_selection import train_test_split\n",
        "def pandaToList(dataset):\n",
        "    text_list = []\n",
        "    label_list = []\n",
        "    for i in range(len(dataset['text'])):\n",
        "      text_list.append(dataset['text'][i])\n",
        "      label_list.append(int(dataset['label'][i]))\n",
        "    return text_list, label_list\n",
        "\n",
        "train_texts, train_labels =  pandaToList(train_df)\n",
        "val_texts, val_labels = pandaToList(val_df)"
      ]
    },
    {
      "cell_type": "code",
      "source": [
        "!pip uninstall jaxlib"
      ],
      "metadata": {
        "colab": {
          "base_uri": "https://localhost:8080/"
        },
        "id": "MWjsucFeabFS",
        "outputId": "0d584858-640f-4903-8eef-02b9c9752d8b"
      },
      "execution_count": null,
      "outputs": [
        {
          "output_type": "stream",
          "name": "stdout",
          "text": [
            "Found existing installation: jaxlib 0.4.13\n",
            "Uninstalling jaxlib-0.4.13:\n",
            "  Would remove:\n",
            "    /usr/local/lib/python3.10/dist-packages/jaxlib-0.4.13.dist-info/*\n",
            "    /usr/local/lib/python3.10/dist-packages/jaxlib/*\n",
            "Proceed (Y/n)? y\n",
            "  Successfully uninstalled jaxlib-0.4.13\n"
          ]
        }
      ]
    },
    {
      "cell_type": "code",
      "source": [
        "pip install -U jax jaxlib"
      ],
      "metadata": {
        "colab": {
          "base_uri": "https://localhost:8080/"
        },
        "id": "Exm3Ezl7T_Pp",
        "outputId": "0c659782-0e36-4f9d-86fb-c327156b24c2"
      },
      "execution_count": null,
      "outputs": [
        {
          "output_type": "stream",
          "name": "stdout",
          "text": [
            "Requirement already satisfied: jax in /usr/local/lib/python3.10/dist-packages (0.4.13)\n",
            "Collecting jax\n",
            "  Using cached jax-0.4.14-py3-none-any.whl\n",
            "Collecting jaxlib\n",
            "  Using cached jaxlib-0.4.14-cp310-cp310-manylinux2014_x86_64.whl (73.7 MB)\n",
            "Requirement already satisfied: ml-dtypes>=0.2.0 in /usr/local/lib/python3.10/dist-packages (from jax) (0.2.0)\n",
            "Requirement already satisfied: numpy>=1.22 in /usr/local/lib/python3.10/dist-packages (from jax) (1.23.5)\n",
            "Requirement already satisfied: opt-einsum in /usr/local/lib/python3.10/dist-packages (from jax) (3.3.0)\n",
            "Requirement already satisfied: scipy>=1.7 in /usr/local/lib/python3.10/dist-packages (from jax) (1.10.1)\n",
            "Installing collected packages: jaxlib, jax\n",
            "  Attempting uninstall: jax\n",
            "    Found existing installation: jax 0.4.13\n",
            "    Uninstalling jax-0.4.13:\n",
            "      Successfully uninstalled jax-0.4.13\n",
            "Successfully installed jax-0.4.14 jaxlib-0.4.14\n"
          ]
        }
      ]
    },
    {
      "cell_type": "code",
      "execution_count": null,
      "metadata": {
        "id": "X1eBQuLb5uH8"
      },
      "outputs": [],
      "source": [
        "tokenizer_name = 'sagorsarker/bangla-bert-base'\n",
        "from transformers import AutoTokenizer\n",
        "tokenizer = AutoTokenizer.from_pretrained(tokenizer_name, use_fast=True)"
      ]
    },
    {
      "cell_type": "code",
      "execution_count": null,
      "metadata": {
        "id": "tHDmvMlE5-m3",
        "colab": {
          "base_uri": "https://localhost:8080/"
        },
        "outputId": "9eaff19f-f97a-4081-8ec7-655b0c194a9e"
      },
      "outputs": [
        {
          "output_type": "stream",
          "name": "stderr",
          "text": [
            "Asking to truncate to max_length but no maximum length is provided and the model has no predefined maximum length. Default to no truncation.\n"
          ]
        }
      ],
      "source": [
        "train_encodings = tokenizer(train_texts, truncation=True, padding=True)\n",
        "val_encodings = tokenizer(val_texts, truncation=True, padding=True)\n"
      ]
    },
    {
      "cell_type": "code",
      "execution_count": null,
      "metadata": {
        "id": "v0BNBtWr7jHm"
      },
      "outputs": [],
      "source": [
        "import torch\n",
        "\n",
        "class ViolenceDataset(torch.utils.data.Dataset):\n",
        "    def __init__(self, encodings, labels):\n",
        "        self.encodings = encodings\n",
        "        self.labels = labels\n",
        "\n",
        "    def __getitem__(self, idx):\n",
        "        item = {key: torch.tensor(val[idx]) for key, val in self.encodings.items()}\n",
        "        item['labels'] = torch.tensor(self.labels[idx])\n",
        "        return item\n",
        "\n",
        "    def __len__(self):\n",
        "        return len(self.labels)\n",
        "\n",
        "train_dataset = ViolenceDataset(train_encodings, train_labels)\n",
        "val_dataset = ViolenceDataset(val_encodings, val_labels)\n"
      ]
    },
    {
      "cell_type": "code",
      "execution_count": null,
      "metadata": {
        "id": "nDP-moODv0cF"
      },
      "outputs": [],
      "source": [
        "from sklearn.metrics import accuracy_score, recall_score, precision_score, f1_score\n",
        "import numpy as np\n",
        "\n",
        "def compute_metrics(p):\n",
        "    pred, labels = p\n",
        "    pred = np.argmax(pred, axis=1)\n",
        "    accuracy = accuracy_score(y_true=labels, y_pred=pred)\n",
        "    recall = recall_score(y_true=labels, y_pred=pred, average='macro')\n",
        "    precision = precision_score(y_true=labels, y_pred=pred, average='macro')\n",
        "    f1 = f1_score(y_true=labels, y_pred=pred, average='macro')\n",
        "    return {\"accuracy\": accuracy, \"precision\": precision, \"recall\": recall, \"f1\": f1}"
      ]
    },
    {
      "cell_type": "code",
      "execution_count": null,
      "metadata": {
        "colab": {
          "base_uri": "https://localhost:8080/"
        },
        "id": "0R_iCeubwZq6",
        "outputId": "e2b6b083-b12b-49bd-b608-02e8d68e0ccf"
      },
      "outputs": [
        {
          "output_type": "stream",
          "name": "stderr",
          "text": [
            "Some weights of BertForSequenceClassification were not initialized from the model checkpoint at sagorsarker/bangla-bert-base and are newly initialized: ['classifier.weight', 'classifier.bias']\n",
            "You should probably TRAIN this model on a down-stream task to be able to use it for predictions and inference.\n"
          ]
        }
      ],
      "source": [
        "from transformers import BertForSequenceClassification, Trainer, TrainingArguments, EarlyStoppingCallback, IntervalStrategy, AutoModelForSequenceClassification\n",
        "from transformers import AutoTokenizer, AutoModelForMaskedLM\n",
        "from transformers import BertTokenizer, BertModel\n",
        "training_args = TrainingArguments(\n",
        "   f\"training_with_callbacks\",\n",
        "   evaluation_strategy = IntervalStrategy.STEPS, # \"steps\"\n",
        "   #output_dir= output_dir,\n",
        "   eval_steps = 250, # Evaluation and Save happens every 250 steps\n",
        "   save_total_limit = 5, # Only last 5 models are saved. Older ones are deleted.\n",
        "\n",
        "   learning_rate=1e-5,\n",
        "   per_device_train_batch_size=1,\n",
        "   per_device_eval_batch_size=1,\n",
        "   num_train_epochs=50,\n",
        "   weight_decay=0.01,\n",
        "   metric_for_best_model = 'f1',\n",
        "   load_best_model_at_end=True)\n",
        "\n",
        "model_name = 'sagorsarker/bangla-bert-base'\n",
        "model = AutoModelForSequenceClassification.from_pretrained(model_name, num_labels=3) ## change here for using another pretrained model\n",
        "\n",
        "trainer = Trainer(\n",
        "    model=model,                         # the instantiated Transformers model to be trained\n",
        "    args=training_args,                  # training arguments, defined above\n",
        "    train_dataset=train_dataset,         # training dataset\n",
        "    eval_dataset=val_dataset,            # evaluation dataset\n",
        "    compute_metrics=compute_metrics,\n",
        "    tokenizer=tokenizer,\n",
        "    callbacks = [EarlyStoppingCallback(early_stopping_patience=5)]\n",
        ")\n"
      ]
    },
    {
      "cell_type": "code",
      "execution_count": null,
      "metadata": {
        "colab": {
          "base_uri": "https://localhost:8080/",
          "height": 785
        },
        "id": "3H-1i_kRy-S7",
        "outputId": "24ef14f9-20e7-4b81-a184-90e5d11623bf"
      },
      "outputs": [
        {
          "output_type": "stream",
          "name": "stderr",
          "text": [
            "/usr/local/lib/python3.10/dist-packages/transformers/optimization.py:411: FutureWarning: This implementation of AdamW is deprecated and will be removed in a future version. Use the PyTorch implementation torch.optim.AdamW instead, or set `no_deprecation_warning=True` to disable this warning\n",
            "  warnings.warn(\n",
            "You're using a BertTokenizerFast tokenizer. Please note that with a fast tokenizer, using the `__call__` method is faster than using a method to encode the text followed by a call to the `pad` method to get a padded encoding.\n"
          ]
        },
        {
          "output_type": "display_data",
          "data": {
            "text/plain": [
              "<IPython.core.display.HTML object>"
            ],
            "text/html": [
              "\n",
              "    <div>\n",
              "      \n",
              "      <progress value='4250' max='135000' style='width:300px; height:20px; vertical-align: middle;'></progress>\n",
              "      [  4250/135000 16:19 < 8:22:24, 4.34 it/s, Epoch 1/50]\n",
              "    </div>\n",
              "    <table border=\"1\" class=\"dataframe\">\n",
              "  <thead>\n",
              " <tr style=\"text-align: left;\">\n",
              "      <th>Step</th>\n",
              "      <th>Training Loss</th>\n",
              "      <th>Validation Loss</th>\n",
              "      <th>Accuracy</th>\n",
              "      <th>Precision</th>\n",
              "      <th>Recall</th>\n",
              "      <th>F1</th>\n",
              "    </tr>\n",
              "  </thead>\n",
              "  <tbody>\n",
              "    <tr>\n",
              "      <td>250</td>\n",
              "      <td>No log</td>\n",
              "      <td>1.111387</td>\n",
              "      <td>0.588722</td>\n",
              "      <td>0.420800</td>\n",
              "      <td>0.396794</td>\n",
              "      <td>0.356513</td>\n",
              "    </tr>\n",
              "    <tr>\n",
              "      <td>500</td>\n",
              "      <td>1.379300</td>\n",
              "      <td>1.276353</td>\n",
              "      <td>0.612782</td>\n",
              "      <td>0.415494</td>\n",
              "      <td>0.432407</td>\n",
              "      <td>0.402918</td>\n",
              "    </tr>\n",
              "    <tr>\n",
              "      <td>750</td>\n",
              "      <td>1.379300</td>\n",
              "      <td>1.290256</td>\n",
              "      <td>0.636842</td>\n",
              "      <td>0.594341</td>\n",
              "      <td>0.473151</td>\n",
              "      <td>0.464326</td>\n",
              "    </tr>\n",
              "    <tr>\n",
              "      <td>1000</td>\n",
              "      <td>1.243400</td>\n",
              "      <td>1.561619</td>\n",
              "      <td>0.646617</td>\n",
              "      <td>0.633404</td>\n",
              "      <td>0.558397</td>\n",
              "      <td>0.567530</td>\n",
              "    </tr>\n",
              "    <tr>\n",
              "      <td>1250</td>\n",
              "      <td>1.243400</td>\n",
              "      <td>1.558452</td>\n",
              "      <td>0.653383</td>\n",
              "      <td>0.598530</td>\n",
              "      <td>0.546364</td>\n",
              "      <td>0.555288</td>\n",
              "    </tr>\n",
              "    <tr>\n",
              "      <td>1500</td>\n",
              "      <td>1.376200</td>\n",
              "      <td>1.507686</td>\n",
              "      <td>0.683459</td>\n",
              "      <td>0.662014</td>\n",
              "      <td>0.565872</td>\n",
              "      <td>0.587805</td>\n",
              "    </tr>\n",
              "    <tr>\n",
              "      <td>1750</td>\n",
              "      <td>1.376200</td>\n",
              "      <td>1.539241</td>\n",
              "      <td>0.687970</td>\n",
              "      <td>0.693530</td>\n",
              "      <td>0.568038</td>\n",
              "      <td>0.592169</td>\n",
              "    </tr>\n",
              "    <tr>\n",
              "      <td>2000</td>\n",
              "      <td>1.617000</td>\n",
              "      <td>1.392472</td>\n",
              "      <td>0.672932</td>\n",
              "      <td>0.663756</td>\n",
              "      <td>0.564574</td>\n",
              "      <td>0.575689</td>\n",
              "    </tr>\n",
              "    <tr>\n",
              "      <td>2250</td>\n",
              "      <td>1.617000</td>\n",
              "      <td>1.531875</td>\n",
              "      <td>0.687218</td>\n",
              "      <td>0.680188</td>\n",
              "      <td>0.568299</td>\n",
              "      <td>0.592977</td>\n",
              "    </tr>\n",
              "    <tr>\n",
              "      <td>2500</td>\n",
              "      <td>1.317000</td>\n",
              "      <td>1.450568</td>\n",
              "      <td>0.684962</td>\n",
              "      <td>0.663065</td>\n",
              "      <td>0.576881</td>\n",
              "      <td>0.593979</td>\n",
              "    </tr>\n",
              "    <tr>\n",
              "      <td>2750</td>\n",
              "      <td>1.317000</td>\n",
              "      <td>1.395169</td>\n",
              "      <td>0.699248</td>\n",
              "      <td>0.673570</td>\n",
              "      <td>0.614789</td>\n",
              "      <td>0.633413</td>\n",
              "    </tr>\n",
              "    <tr>\n",
              "      <td>3000</td>\n",
              "      <td>1.246700</td>\n",
              "      <td>1.781931</td>\n",
              "      <td>0.697744</td>\n",
              "      <td>0.665353</td>\n",
              "      <td>0.651738</td>\n",
              "      <td>0.654571</td>\n",
              "    </tr>\n",
              "    <tr>\n",
              "      <td>3250</td>\n",
              "      <td>1.246700</td>\n",
              "      <td>1.688192</td>\n",
              "      <td>0.704511</td>\n",
              "      <td>0.669396</td>\n",
              "      <td>0.636319</td>\n",
              "      <td>0.648305</td>\n",
              "    </tr>\n",
              "    <tr>\n",
              "      <td>3500</td>\n",
              "      <td>0.923900</td>\n",
              "      <td>1.844189</td>\n",
              "      <td>0.677444</td>\n",
              "      <td>0.661219</td>\n",
              "      <td>0.645614</td>\n",
              "      <td>0.639386</td>\n",
              "    </tr>\n",
              "    <tr>\n",
              "      <td>3750</td>\n",
              "      <td>0.923900</td>\n",
              "      <td>1.673191</td>\n",
              "      <td>0.704511</td>\n",
              "      <td>0.676172</td>\n",
              "      <td>0.638910</td>\n",
              "      <td>0.651890</td>\n",
              "    </tr>\n",
              "    <tr>\n",
              "      <td>4000</td>\n",
              "      <td>1.020800</td>\n",
              "      <td>1.538608</td>\n",
              "      <td>0.704511</td>\n",
              "      <td>0.683380</td>\n",
              "      <td>0.623775</td>\n",
              "      <td>0.642846</td>\n",
              "    </tr>\n",
              "    <tr>\n",
              "      <td>4250</td>\n",
              "      <td>1.020800</td>\n",
              "      <td>1.659867</td>\n",
              "      <td>0.706015</td>\n",
              "      <td>0.704358</td>\n",
              "      <td>0.606400</td>\n",
              "      <td>0.629374</td>\n",
              "    </tr>\n",
              "  </tbody>\n",
              "</table><p>"
            ]
          },
          "metadata": {}
        },
        {
          "output_type": "stream",
          "name": "stderr",
          "text": [
            "/usr/local/lib/python3.10/dist-packages/sklearn/metrics/_classification.py:1344: UndefinedMetricWarning: Precision is ill-defined and being set to 0.0 in labels with no predicted samples. Use `zero_division` parameter to control this behavior.\n",
            "  _warn_prf(average, modifier, msg_start, len(result))\n",
            "/usr/local/lib/python3.10/dist-packages/sklearn/metrics/_classification.py:1344: UndefinedMetricWarning: Precision is ill-defined and being set to 0.0 in labels with no predicted samples. Use `zero_division` parameter to control this behavior.\n",
            "  _warn_prf(average, modifier, msg_start, len(result))\n"
          ]
        },
        {
          "output_type": "execute_result",
          "data": {
            "text/plain": [
              "TrainOutput(global_step=4250, training_loss=1.2588113008386947, metrics={'train_runtime': 982.3091, 'train_samples_per_second': 137.431, 'train_steps_per_second': 137.431, 'total_flos': 408416774881500.0, 'train_loss': 1.2588113008386947, 'epoch': 1.57})"
            ]
          },
          "metadata": {},
          "execution_count": 15
        }
      ],
      "source": [
        "trainer.train()"
      ]
    },
    {
      "cell_type": "code",
      "execution_count": null,
      "metadata": {
        "colab": {
          "base_uri": "https://localhost:8080/",
          "height": 173
        },
        "id": "jn0Q5Eij3Egu",
        "outputId": "009d0abd-46ce-4642-848c-20005a5c6ddc"
      },
      "outputs": [
        {
          "output_type": "display_data",
          "data": {
            "text/plain": [
              "<IPython.core.display.HTML object>"
            ],
            "text/html": []
          },
          "metadata": {}
        },
        {
          "output_type": "execute_result",
          "data": {
            "text/plain": [
              "PredictionOutput(predictions=array([[ 4.694577 , -2.106599 , -2.7200754],\n",
              "       [ 4.5345383, -2.0135581, -2.7230957],\n",
              "       [ 4.8577785, -2.3583724, -2.5457942],\n",
              "       ...,\n",
              "       [ 4.677658 , -2.1518087, -2.6738553],\n",
              "       [ 1.6586131,  1.7194527, -3.174642 ],\n",
              "       [-3.22201  ,  4.844215 , -1.9898009]], dtype=float32), label_ids=array([0, 0, 0, ..., 0, 1, 0]), metrics={'test_loss': 1.7819310426712036, 'test_accuracy': 0.6977443609022557, 'test_precision': 0.6653532338308458, 'test_recall': 0.6517381261927526, 'test_f1': 0.6545709703211143, 'test_runtime': 22.2225, 'test_samples_per_second': 59.849, 'test_steps_per_second': 59.849})"
            ]
          },
          "metadata": {},
          "execution_count": 16
        }
      ],
      "source": [
        "trainer.predict(val_dataset)"
      ]
    },
    {
      "cell_type": "code",
      "execution_count": null,
      "metadata": {
        "id": "eSW49ooro37D"
      },
      "outputs": [],
      "source": [
        "output_dir = \"/content/drive/MyDrive/VITD-Models/sagorbert\""
      ]
    },
    {
      "cell_type": "code",
      "execution_count": null,
      "metadata": {
        "id": "6D8pK_Mq8o43"
      },
      "outputs": [],
      "source": [
        "trainer.save_model(f\"{output_dir}\") # saving the model to drive."
      ]
    }
  ],
  "metadata": {
    "accelerator": "GPU",
    "colab": {
      "provenance": [],
      "include_colab_link": true
    },
    "kernelspec": {
      "display_name": "Python 3",
      "name": "python3"
    },
    "language_info": {
      "name": "python"
    }
  },
  "nbformat": 4,
  "nbformat_minor": 0
}